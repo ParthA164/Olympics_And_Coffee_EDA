{
 "cells": [
  {
   "cell_type": "code",
   "execution_count": 10,
   "metadata": {},
   "outputs": [
    {
     "name": "stdout",
     "output_type": "stream",
     "text": [
      "[1 2 3]\n"
     ]
    }
   ],
   "source": [
    "import numpy as np\n",
    "a=np.array([1,2,3], dtype='int16')\n",
    "print(a)"
   ]
  },
  {
   "cell_type": "code",
   "execution_count": null,
   "id": "74178f9f",
   "metadata": {},
   "outputs": [],
   "source": []
  },
  {
   "cell_type": "code",
   "execution_count": 4,
   "id": "d2d6afdc",
   "metadata": {},
   "outputs": [
    {
     "name": "stdout",
     "output_type": "stream",
     "text": [
      "[[ 1  2  3  4  5]\n",
      " [ 3 66  4  3  2]]\n"
     ]
    }
   ],
   "source": [
    "b=np.array([[1,2,3,4,5],[3,66,4,3,2]])\n",
    "print(b)"
   ]
  },
  {
   "cell_type": "code",
   "execution_count": 7,
   "id": "aee4486e",
   "metadata": {},
   "outputs": [
    {
     "name": "stdout",
     "output_type": "stream",
     "text": [
      "1\n",
      "2\n"
     ]
    }
   ],
   "source": [
    "# to get the dimension\n",
    "print(a.ndim)\n",
    "print(b.ndim)"
   ]
  },
  {
   "cell_type": "code",
   "execution_count": 8,
   "id": "0d278204",
   "metadata": {},
   "outputs": [
    {
     "name": "stdout",
     "output_type": "stream",
     "text": [
      "(3,)\n",
      "(2, 5)\n"
     ]
    }
   ],
   "source": [
    "print(a.shape)\n",
    "print(b.shape)"
   ]
  },
  {
   "cell_type": "code",
   "execution_count": 11,
   "id": "21ce2529",
   "metadata": {},
   "outputs": [
    {
     "data": {
      "text/plain": [
       "dtype('int16')"
      ]
     },
     "execution_count": 11,
     "metadata": {},
     "output_type": "execute_result"
    }
   ],
   "source": [
    "#to get the datatype\n",
    "a.dtype\n",
    "\n"
   ]
  },
  {
   "cell_type": "code",
   "execution_count": 12,
   "id": "ed69783c",
   "metadata": {},
   "outputs": [
    {
     "data": {
      "text/plain": [
       "2"
      ]
     },
     "execution_count": 12,
     "metadata": {},
     "output_type": "execute_result"
    }
   ],
   "source": [
    "#size in bytes\n",
    "a.itemsize"
   ]
  },
  {
   "cell_type": "code",
   "execution_count": 13,
   "id": "bd96b1ae",
   "metadata": {},
   "outputs": [
    {
     "data": {
      "text/plain": [
       "6"
      ]
     },
     "execution_count": 13,
     "metadata": {},
     "output_type": "execute_result"
    }
   ],
   "source": [
    "#get total size\n",
    "a.nbytes"
   ]
  },
  {
   "cell_type": "code",
   "execution_count": 14,
   "id": "dc12c58d",
   "metadata": {},
   "outputs": [
    {
     "name": "stdout",
     "output_type": "stream",
     "text": [
      "[[ 1  2  3  4  5  6  7]\n",
      " [ 8  9 10 11 12 13 14]]\n"
     ]
    }
   ],
   "source": [
    "a=np.array([[1,2,3,4,5,6,7],[8,9,10,11,12,13,14]])\n",
    "print(a)"
   ]
  },
  {
   "cell_type": "code",
   "execution_count": 19,
   "id": "7f312053",
   "metadata": {},
   "outputs": [
    {
     "name": "stdout",
     "output_type": "stream",
     "text": [
      "13\n",
      "13\n",
      "[1 2 3 4 5 6 7]\n",
      "[ 3 10]\n",
      "[2 4 6]\n"
     ]
    }
   ],
   "source": [
    "#get a specific value\n",
    "print(a[1,5])\n",
    "print(a[1,-2])\n",
    "#get a specific row\n",
    "print(a[0, :])\n",
    "#get a specific column\n",
    "print(a[:,2])\n",
    "#getting a little more fancy[start:end:stepsize]\n",
    "print(a[0, 1:6:2])\n",
    "\n"
   ]
  },
  {
   "cell_type": "code",
   "execution_count": 20,
   "id": "82487986",
   "metadata": {},
   "outputs": [
    {
     "name": "stdout",
     "output_type": "stream",
     "text": [
      "[[ 1  2  3  4  5  6  7]\n",
      " [ 8  9 10 11 12 20 14]]\n"
     ]
    }
   ],
   "source": [
    "a[1,5]=20\n",
    "print(a)"
   ]
  },
  {
   "cell_type": "code",
   "execution_count": 22,
   "id": "99d5e921",
   "metadata": {},
   "outputs": [
    {
     "name": "stdout",
     "output_type": "stream",
     "text": [
      "[[ 1  2  5  4  5  6  7]\n",
      " [ 8  9  5 11 12 20 14]]\n",
      "[[ 1  2  1  4  5  6  7]\n",
      " [ 8  9  2 11 12 20 14]]\n"
     ]
    }
   ],
   "source": [
    "a[:,2]=5\n",
    "print(a)\n",
    "a[:,2]=[1,2]\n",
    "print(a)"
   ]
  },
  {
   "cell_type": "code",
   "execution_count": 26,
   "id": "d879b80f",
   "metadata": {},
   "outputs": [
    {
     "name": "stdout",
     "output_type": "stream",
     "text": [
      "[[[1 2]\n",
      "  [3 4]]\n",
      "\n",
      " [[5 6]\n",
      "  [7 8]]]\n",
      "4\n",
      "[[3 4]\n",
      " [7 8]]\n",
      "[[[1 2]\n",
      "  [9 9]]\n",
      "\n",
      " [[5 6]\n",
      "  [8 8]]]\n"
     ]
    }
   ],
   "source": [
    "#3-d example\n",
    "b=np.array([[[1,2],[3,4]],[[5,6],[7,8]]])\n",
    "print(b)\n",
    "print(b[0,1,1])\n",
    "print(b[:,1,:])\n",
    "b[:,1,:]=[[9,9],[8,8]]\n",
    "print(b)"
   ]
  },
  {
   "cell_type": "code",
   "execution_count": 35,
   "id": "14bf2d9c",
   "metadata": {},
   "outputs": [
    {
     "name": "stdout",
     "output_type": "stream",
     "text": [
      "[[0. 0. 0.]\n",
      " [0. 0. 0.]]\n",
      "[[99. 99.]\n",
      " [99. 99.]]\n"
     ]
    }
   ],
   "source": [
    "#initialsize different types of arrays\n",
    "#all 0s matrix\n",
    "a=np.zeros((2,3))\n",
    "print(a)\n",
    "a=np.zeros((2,3,3,2))\n",
    "a=np.ones((4,2,2), dtype='int32')\n",
    "# print(a)\n",
    "a=np.full((2,2),99, dtype='float32')\n",
    "print(a)"
   ]
  },
  {
   "cell_type": "code",
   "execution_count": 37,
   "id": "9d7fe60a",
   "metadata": {},
   "outputs": [
    {
     "name": "stdout",
     "output_type": "stream",
     "text": [
      "[[4 4]\n",
      " [4 4]]\n",
      "[[4. 4.]\n",
      " [4. 4.]]\n"
     ]
    }
   ],
   "source": [
    "print(np.full(a.shape,4))\n",
    "print(np.full_like(a,4))\n"
   ]
  },
  {
   "cell_type": "code",
   "execution_count": 39,
   "id": "01a209ee",
   "metadata": {},
   "outputs": [
    {
     "name": "stdout",
     "output_type": "stream",
     "text": [
      "[[0.26695951 0.5111747 ]\n",
      " [0.41238734 0.50049184]\n",
      " [0.19480156 0.88316081]\n",
      " [0.16184445 0.49406602]]\n",
      "[[0.6633931  0.05151232]\n",
      " [0.00641349 0.50859024]]\n"
     ]
    }
   ],
   "source": [
    "#random decimal numbers\n",
    "print(np.random.rand(4,2))\n",
    "print(np.random.random_sample(a.shape))"
   ]
  },
  {
   "cell_type": "code",
   "execution_count": 43,
   "id": "27a26b8e",
   "metadata": {},
   "outputs": [
    {
     "name": "stdout",
     "output_type": "stream",
     "text": [
      "[[3 4 4]\n",
      " [3 6 7]\n",
      " [7 6 2]\n",
      " [6 7 6]]\n"
     ]
    }
   ],
   "source": [
    "#random integer values\n",
    "print(np.random.randint(2,8,size=(4,3)))"
   ]
  },
  {
   "cell_type": "code",
   "execution_count": 44,
   "id": "4bcbaa57",
   "metadata": {},
   "outputs": [
    {
     "name": "stdout",
     "output_type": "stream",
     "text": [
      "[[1. 0. 0. 0. 0.]\n",
      " [0. 1. 0. 0. 0.]\n",
      " [0. 0. 1. 0. 0.]\n",
      " [0. 0. 0. 1. 0.]\n",
      " [0. 0. 0. 0. 1.]]\n"
     ]
    }
   ],
   "source": [
    "print(np.identity(5))"
   ]
  },
  {
   "cell_type": "code",
   "execution_count": 48,
   "id": "1d4e9c77",
   "metadata": {},
   "outputs": [
    {
     "name": "stdout",
     "output_type": "stream",
     "text": [
      "[[1 2 3]\n",
      " [1 2 3]\n",
      " [1 2 3]]\n"
     ]
    }
   ],
   "source": [
    "#repeat an array\n",
    "arr=np.array([[1,2,3]])\n",
    "r1=np.repeat(arr,3,axis=0)\n",
    "print(r1)"
   ]
  },
  {
   "cell_type": "code",
   "execution_count": 50,
   "id": "3e47a750",
   "metadata": {},
   "outputs": [
    {
     "name": "stdout",
     "output_type": "stream",
     "text": [
      "[[1. 1. 1. 1. 1.]\n",
      " [1. 1. 1. 1. 1.]\n",
      " [1. 1. 1. 1. 1.]\n",
      " [1. 1. 1. 1. 1.]\n",
      " [1. 1. 1. 1. 1.]]\n",
      "[[0. 0. 0.]\n",
      " [0. 9. 0.]\n",
      " [0. 0. 0.]]\n",
      "[[1. 1. 1. 1. 1.]\n",
      " [1. 0. 0. 0. 1.]\n",
      " [1. 0. 9. 0. 1.]\n",
      " [1. 0. 0. 0. 1.]\n",
      " [1. 1. 1. 1. 1.]]\n"
     ]
    }
   ],
   "source": [
    "output=np.ones((5,5))\n",
    "print(output)\n",
    "z=np.zeros((3,3))\n",
    "z[1,1]=9\n",
    "print(z)\n",
    "output[1:-1,1:-1]=z\n",
    "print(output)"
   ]
  },
  {
   "cell_type": "code",
   "execution_count": 56,
   "id": "a746041c",
   "metadata": {},
   "outputs": [
    {
     "name": "stdout",
     "output_type": "stream",
     "text": [
      "[1 2 3]\n",
      "[100   2   3]\n"
     ]
    }
   ],
   "source": [
    "#be carefull while copying arrays\n",
    "a=np.array([1,2,3])\n",
    "# b=a       #in this way b also points to the same array its just an alias\n",
    "          #to resolve this we can use copy function\n",
    "# b[0]=100\n",
    "# print(b)\n",
    "# print(a)   \n",
    "b=a.copy()\n",
    "b[0]=100\n",
    "print(a)\n",
    "print(b)\n"
   ]
  },
  {
   "cell_type": "code",
   "execution_count": 60,
   "id": "bb9531c0",
   "metadata": {},
   "outputs": [
    {
     "name": "stdout",
     "output_type": "stream",
     "text": [
      "[3 4 5 6]\n",
      "[-1  0  1  2]\n",
      "[2 4 6 8]\n",
      "[0.5 1.  1.5 2. ]\n",
      "[1 2 3 4]\n"
     ]
    }
   ],
   "source": [
    "#mathematics\n",
    "a=np.array([1,2,3,4])\n",
    "print(a+2)\n",
    "print(a-2)\n",
    "print(a*2)\n",
    "print(a/2)\n",
    "\n",
    "print(a)\n"
   ]
  },
  {
   "cell_type": "code",
   "execution_count": 64,
   "id": "997e4a3c",
   "metadata": {},
   "outputs": [
    {
     "name": "stdout",
     "output_type": "stream",
     "text": [
      "[2 2 4 4]\n",
      "[ 1  4  9 16]\n",
      "[ 0.84147098  0.90929743  0.14112001 -0.7568025 ]\n",
      "[ 0.54030231 -0.41614684 -0.9899925  -0.65364362]\n"
     ]
    }
   ],
   "source": [
    "b=np.array([1,0,1,0])\n",
    "print(a+b)\n",
    "print(a**2)\n",
    "print(np.sin(a))\n",
    "print(np.cos(a))"
   ]
  },
  {
   "cell_type": "code",
   "execution_count": 69,
   "id": "58dcf830",
   "metadata": {},
   "outputs": [
    {
     "name": "stdout",
     "output_type": "stream",
     "text": [
      "[[1. 1. 1.]\n",
      " [1. 1. 1.]]\n",
      "[[2 2]\n",
      " [2 2]\n",
      " [2 2]]\n",
      "[[6. 6.]\n",
      " [6. 6.]]\n"
     ]
    }
   ],
   "source": [
    "#Linear Algebra\n",
    "a=np.ones((2,3))\n",
    "print(a)\n",
    "b=np.full((3,2),2)\n",
    "print(b)\n",
    "\n",
    "print(np.matmul(a,b))"
   ]
  },
  {
   "cell_type": "code",
   "execution_count": 71,
   "id": "c9dbd1f5",
   "metadata": {},
   "outputs": [
    {
     "name": "stdout",
     "output_type": "stream",
     "text": [
      "1.0\n"
     ]
    }
   ],
   "source": [
    "#find the determinant\n",
    "c=np.identity(3)\n",
    "print(np.linalg.det(c))\n"
   ]
  },
  {
   "cell_type": "code",
   "execution_count": null,
   "id": "05c918b9",
   "metadata": {},
   "outputs": [],
   "source": [
    "#linear algebra docs\n",
    "#https://www.youtube.com/redirect?event=video_description&redir_token=QUFFLUhqbkgtekRmMWluSVpFa3V4OTduQVhWQ0VaelY1Z3xBQ3Jtc0ttR1pkaVV3WHNkVU1qUXdjdTR3M1RMdl9JQ016cXRHbnVNdVUtWXlxM1A1N3lrakpVZ0lOUnJCWkxqLXBRb3pEa05COTVqVFBWVWcybU9CdUZpNUVmaG9Tb09xbW9QNm9pYkhJUE1zUUg0OVczV2pUQQ&q=https%3A%2F%2Fdocs.scipy.org%2Fdoc%2Fnumpy%2Freference%2Froutines.linalg.html&v=QUT1VHiLmmI"
   ]
  },
  {
   "cell_type": "code",
   "execution_count": 76,
   "id": "df9c4e0d",
   "metadata": {},
   "outputs": [
    {
     "name": "stdout",
     "output_type": "stream",
     "text": [
      "[[1 2 3]\n",
      " [4 5 6]]\n",
      "1\n",
      "6\n",
      "[4 5 6]\n",
      "[3 6]\n"
     ]
    }
   ],
   "source": [
    "#statistics\n",
    "stats=np.array([[1,2,3],[4,5,6]])\n",
    "print(stats)\n",
    "print(np.min(stats))\n",
    "print(np.max(stats))\n",
    "print(np.max(stats, axis=0))\n",
    "print(np.max(stats, axis=1))"
   ]
  },
  {
   "cell_type": "code",
   "execution_count": 79,
   "id": "c011d70a",
   "metadata": {},
   "outputs": [
    {
     "name": "stdout",
     "output_type": "stream",
     "text": [
      "21\n",
      "[5 7 9]\n",
      "[ 6 15]\n"
     ]
    }
   ],
   "source": [
    "print(np.sum(stats))\n",
    "print(np.sum(stats, axis=0))\n",
    "print(np.sum(stats, axis=1))"
   ]
  },
  {
   "cell_type": "code",
   "execution_count": 84,
   "id": "d7819d4a",
   "metadata": {},
   "outputs": [
    {
     "name": "stdout",
     "output_type": "stream",
     "text": [
      "[[1 2 3 4]\n",
      " [5 6 7 8]]\n",
      "(2, 4)\n",
      "[[1]\n",
      " [2]\n",
      " [3]\n",
      " [4]\n",
      " [5]\n",
      " [6]\n",
      " [7]\n",
      " [8]]\n",
      "[[[1 2]\n",
      "  [3 4]]\n",
      "\n",
      " [[5 6]\n",
      "  [7 8]]]\n"
     ]
    }
   ],
   "source": [
    "#reorganizing arrays\n",
    "before=np.array([[1,2,3,4],[5,6,7,8]])\n",
    "print(before)\n",
    "print(before.shape)\n",
    "after=before.reshape((8,1))\n",
    "print(after)\n",
    "after=before.reshape((2,2,2))\n",
    "print(after)"
   ]
  },
  {
   "cell_type": "code",
   "execution_count": 87,
   "id": "0fd96a93",
   "metadata": {},
   "outputs": [
    {
     "name": "stdout",
     "output_type": "stream",
     "text": [
      "[[1 2 3 4]\n",
      " [5 6 7 8]]\n"
     ]
    }
   ],
   "source": [
    "#vertically stacking vectors\n",
    "v1=np.array([1,2,3,4])\n",
    "v2=np.array([5,6,7,8])\n",
    "\n",
    "print(np.vstack([v1,v2]))\n"
   ]
  },
  {
   "cell_type": "code",
   "execution_count": 89,
   "id": "1461acdf",
   "metadata": {},
   "outputs": [
    {
     "name": "stdout",
     "output_type": "stream",
     "text": [
      "[[1. 1. 1. 1. 0. 0.]\n",
      " [1. 1. 1. 1. 0. 0.]]\n"
     ]
    }
   ],
   "source": [
    "#horizontal stack\n",
    "h1=np.ones((2,4))\n",
    "h2=np.zeros((2,2))\n",
    "print(np.hstack([h1,h2])) "
   ]
  },
  {
   "cell_type": "code",
   "execution_count": 94,
   "id": "7f98844f",
   "metadata": {},
   "outputs": [
    {
     "name": "stdout",
     "output_type": "stream",
     "text": [
      "[[  1  13  21  11 196  75   4   3  34   6   7   8   0   1   2   3   4   5]\n",
      " [  3  42  12  33 766  75   4  55   6   4   3   4   5   6   7   0  11  12]\n",
      " [  1  22  33  11 999  11   2   1  78   0   1   2   9   8   7   1  76  88]]\n"
     ]
    }
   ],
   "source": [
    "#load data from file without using pandas\n",
    "filedata=np.genfromtxt('data.txt', delimiter=',')\n",
    "filedata=filedata.astype('int32')\n",
    "print(filedata)"
   ]
  },
  {
   "cell_type": "code",
   "execution_count": null,
   "id": "8aa72602",
   "metadata": {},
   "outputs": [],
   "source": [
    "#miscellaneous\n",
    "#boolean masking and advanced indexing"
   ]
  },
  {
   "cell_type": "code",
   "execution_count": 99,
   "id": "8bb32b28",
   "metadata": {},
   "outputs": [
    {
     "name": "stdout",
     "output_type": "stream",
     "text": [
      "[[False False False False  True  True False False False False False False\n",
      "  False False False False False False]\n",
      " [False False False False  True  True False  True False False False False\n",
      "  False False False False False False]\n",
      " [False False False False  True False False False  True False False False\n",
      "  False False False False  True  True]]\n",
      "[196  75 766  75  55 999  78  76  88]\n",
      "[False False False False  True  True False  True  True False False False\n",
      " False False False False  True  True]\n",
      "[[False False False False False  True False False False False False False\n",
      "  False False False False False False]\n",
      " [False False False False False  True False  True False False False False\n",
      "  False False False False False False]\n",
      " [False False False False False False False False  True False False False\n",
      "  False False False False  True  True]]\n"
     ]
    }
   ],
   "source": [
    "#  ****** axis=0 is columns and axis=1 is rows\n",
    "print(filedata>50)\n",
    "print(filedata[filedata>50])\n",
    "#we can index with a list in numpy\n",
    "print(np.any(filedata>50, axis=0))   # column with value greater than 50\n",
    "print((filedata>50) &( filedata<100))"
   ]
  }
 ],
 "metadata": {
  "kernelspec": {
   "display_name": "Python 3",
   "language": "python",
   "name": "python3"
  },
  "language_info": {
   "codemirror_mode": {
    "name": "ipython",
    "version": 3
   },
   "file_extension": ".py",
   "mimetype": "text/x-python",
   "name": "python",
   "nbconvert_exporter": "python",
   "pygments_lexer": "ipython3",
   "version": "3.12.1"
  }
 },
 "nbformat": 4,
 "nbformat_minor": 5
}
